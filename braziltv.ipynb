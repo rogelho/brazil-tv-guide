{
 "cells": [
  {
   "cell_type": "code",
   "execution_count": 10,
   "metadata": {},
   "outputs": [],
   "source": [
    "from braziltv.braziltv import BrazilTV\n",
    "import pandas as pd\n",
    "\n",
    "guide = BrazilTV()\n",
    "\n",
    "schedule = guide.tv_content()"
   ]
  },
  {
   "cell_type": "code",
   "execution_count": 14,
   "metadata": {},
   "outputs": [
    {
     "name": "stdout",
     "output_type": "stream",
     "text": [
      "     time                                      show  \\\n",
      "0   05:25              Law & Order: Criminal Intent   \n",
      "1   06:19              Law & Order: Criminal Intent   \n",
      "2   07:11                               A Armadilha   \n",
      "3   09:09                         The Romeo Section   \n",
      "4   10:00                         The Romeo Section   \n",
      "5   10:51                         The Romeo Section   \n",
      "6   11:42                         The Romeo Section   \n",
      "7   12:32                             Prata da Casa   \n",
      "8   13:00                             Programa Pago   \n",
      "9   16:00                             Prata da Casa   \n",
      "10  16:30                             Prata da Casa   \n",
      "11  17:00  O que Esperar Quando Você Está Esperando   \n",
      "12  18:45                         Conduta Criminosa   \n",
      "13  20:15                         The Romeo Section   \n",
      "14  21:00                         The Romeo Section   \n",
      "15  21:45                                    Remedy   \n",
      "16  22:30                                    Remedy   \n",
      "17  23:15                              Private Eyes   \n",
      "18  00:00                            1 Contra Todos   \n",
      "19  00:45                             New Amsterdam   \n",
      "20  01:30                                     Bones   \n",
      "21  02:15                                     Bones   \n",
      "22  03:00              Law & Order: Criminal Intent   \n",
      "23  03:45         Law & Order: Special Victims Unit   \n",
      "24  04:30         Law & Order: Special Victims Unit   \n",
      "25  05:15                        A Família da Noiva   \n",
      "\n",
      "                                            sub-title  \n",
      "0     Temporada 3 Episódio 7 - Um Assassino entre Nós  \n",
      "1             Temporada 3 Episódio 8 - Corpos a Salvo  \n",
      "2                                       Horror / 2010  \n",
      "3              Temporada 1 Episódio 5 - Cinco Espiões  \n",
      "4               Temporada 1 Episódio 6 - Ordem Divina  \n",
      "5                Temporada 1 Episódio 7 - Uísque Jack  \n",
      "6   Temporada 1 Episódio 8 - O Elefante Olha para ...  \n",
      "7                                              Sitcom  \n",
      "8                                            Shopping  \n",
      "9                                              Sitcom  \n",
      "10                                             Sitcom  \n",
      "11                                Comedy drama / 2012  \n",
      "12                                    Thriller / 2008  \n",
      "13       Temporada 2 Episódio 1 - A Narrativa Oficial  \n",
      "14            Temporada 2 Episódio 2 - Trabalho Árduo  \n",
      "15         Temporada 2 Episódio 1 - Nosso Amigo, Caos  \n",
      "16        Temporada 2 Episódio 2 - Quando Você Acorda  \n",
      "17            Temporada 4 Episódio 1 - Trama Familiar  \n",
      "18                   Temporada 1 Episódio 5 - Dr x Dr  \n",
      "19             Temporada 2 Episódio 4 - O Denominador  \n",
      "20         Temporada 11 Episódio 19 - Cabeça no Pilar  \n",
      "21  Temporada 11 Episódio 20 - A Arqueologia de um...  \n",
      "22            Temporada 3 Episódio 8 - Corpos a Salvo  \n",
      "23               Temporada 4 Episódio 22 - Futilidade  \n",
      "24                     Temporada 4 Episódio 23 - Luto  \n",
      "25                                      Comedy / 2005  \n"
     ]
    }
   ],
   "source": [
    "scheduleDF = pd.DataFrame(schedule,columns=['time','show','sub-title'])\n",
    "\n",
    "print(scheduleDF)"
   ]
  },
  {
   "cell_type": "markdown",
   "metadata": {},
   "source": []
  }
 ],
 "metadata": {
  "interpreter": {
   "hash": "31f2aee4e71d21fbe5cf8b01ff0e069b9275f58929596ceb00d14d90e3e16cd6"
  },
  "kernelspec": {
   "display_name": "Python 3.7.5 64-bit",
   "language": "python",
   "name": "python3"
  },
  "language_info": {
   "codemirror_mode": {
    "name": "ipython",
    "version": 3
   },
   "file_extension": ".py",
   "mimetype": "text/x-python",
   "name": "python",
   "nbconvert_exporter": "python",
   "pygments_lexer": "ipython3",
   "version": "3.7.5"
  },
  "orig_nbformat": 4
 },
 "nbformat": 4,
 "nbformat_minor": 2
}
